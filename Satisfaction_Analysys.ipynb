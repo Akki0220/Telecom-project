{
 "cells": [
  {
   "cell_type": "markdown",
   "id": "06939ded-31cc-41bb-9c33-e91d14f071af",
   "metadata": {},
   "source": [
    "# Import Libreries"
   ]
  },
  {
   "cell_type": "code",
   "execution_count": 32,
   "id": "aa67a29a-5f77-4df8-99bc-92b439c8c3c7",
   "metadata": {},
   "outputs": [],
   "source": [
    "import pandas as pd \n",
    "import numpy as np\n",
    "from sklearn.cluster import KMeans\n",
    "from sklearn.preprocessing import StandardScaler"
   ]
  },
  {
   "cell_type": "markdown",
   "id": "ca84fe15",
   "metadata": {},
   "source": [
    "# Read csv file"
   ]
  },
  {
   "cell_type": "code",
   "execution_count": 33,
   "id": "b6104aa4-60fa-467f-a623-4ad4e0d17e6c",
   "metadata": {},
   "outputs": [],
   "source": [
    "df_experience = pd.read_csv('Experiance_Analytics_data.csv')"
   ]
  },
  {
   "cell_type": "code",
   "execution_count": 34,
   "id": "a17fcc08-794c-4446-8ac3-3975668b8b29",
   "metadata": {},
   "outputs": [],
   "source": [
    "df_engagement = pd.read_csv('user_engagement.csv')"
   ]
  },
  {
   "cell_type": "code",
   "execution_count": 35,
   "id": "cf206f55-6286-4f68-9f09-ad50c43e90eb",
   "metadata": {},
   "outputs": [],
   "source": [
    "# Drop the MSISDN/Number column \n",
    "features = df_engagement.drop(columns=['MSISDN/Number'])"
   ]
  },
  {
   "cell_type": "code",
   "execution_count": 36,
   "id": "3c0d1f16-7b0f-457b-9aa4-9c0218437e38",
   "metadata": {},
   "outputs": [
    {
     "name": "stdout",
     "output_type": "stream",
     "text": [
      "       MSISDN/Number  cluster  engagement_score\n",
      "0       0.000000e+00        0        791.019742\n",
      "1       3.360100e+10        1          0.879020\n",
      "2       3.360100e+10        1          1.099152\n",
      "3       3.360100e+10        1          0.744604\n",
      "4       3.360101e+10        1          1.205819\n",
      "...              ...      ...               ...\n",
      "95250   3.378996e+10        1          0.903529\n",
      "95251   3.378997e+10        1          0.861366\n",
      "95252   3.378998e+10        1          0.811474\n",
      "95253   3.379000e+10        1          1.099789\n",
      "95254   3.379000e+10        1          0.832592\n",
      "\n",
      "[95255 rows x 3 columns]\n"
     ]
    }
   ],
   "source": [
    "# Standerdize the features \n",
    "scaler = StandardScaler()\n",
    "df_scaled = scaler.fit_transform(features)\n",
    "\n",
    "# Perform k-means clustring \n",
    "kmeans = KMeans(n_clusters=2, random_state=42)\n",
    "df_engagement['cluster'] = kmeans.fit_predict(df_scaled)\n",
    "\n",
    "# Determine the less engagged cluster by comparing cluster cetroids \n",
    "centroids = kmeans.cluster_centers_\n",
    "less_engaged_cluster = np.argmin(np.sum(centroids, axis=1))\n",
    "\n",
    "# Calculate Euclidean distance from each user to the less engaged cluster centroid \n",
    "less_engaged_centroid = centroids[less_engaged_cluster]\n",
    "df_engagement['engagement_score'] = np.linalg.norm(df_scaled - less_engaged_centroid, axis=1)\n",
    "print(df_engagement[['MSISDN/Number', 'cluster', 'engagement_score']])"
   ]
  },
  {
   "cell_type": "code",
   "execution_count": 37,
   "id": "fccdfc81-7c2f-429c-9a13-61249c3c41da",
   "metadata": {},
   "outputs": [],
   "source": [
    "#Drop non-numeric and identifiercolumns for clustring \n",
    "df_features = df_experience.drop(columns=['MSISDN/Number','Handset Manufacturer', 'Handset Type', 'cluster'] )"
   ]
  },
  {
   "cell_type": "code",
   "execution_count": 38,
   "id": "b97b95cc-186b-4473-b17b-c8b78b73846f",
   "metadata": {},
   "outputs": [
    {
     "name": "stdout",
     "output_type": "stream",
     "text": [
      "       MSISDN/Number  cluster  experience_score\n",
      "0       0.000000e+00        1          3.737168\n",
      "1       3.360100e+10        1          5.703688\n",
      "2       3.360100e+10        1          5.725966\n",
      "3       3.360100e+10        1          5.943282\n",
      "4       3.360101e+10        1          5.257259\n",
      "...              ...      ...               ...\n",
      "95250   3.378996e+10        1          5.929549\n",
      "95251   3.378997e+10        1          5.599080\n",
      "95252   3.378998e+10        1          5.926338\n",
      "95253   3.379000e+10        1          4.826170\n",
      "95254   3.379000e+10        1          5.649338\n",
      "\n",
      "[95255 rows x 3 columns]\n"
     ]
    }
   ],
   "source": [
    "# Standerdize the features \n",
    "scaler = StandardScaler()\n",
    "df_scaled = scaler.fit_transform(df_features)\n",
    "\n",
    "#Perform K-means clustring \n",
    "kmeans = KMeans(n_clusters=2, random_state=42)\n",
    "df_experience['cluster'] = kmeans.fit_predict(df_scaled) \n",
    "\n",
    "#Determine the worst experience cluster by comparing cluster by cetroinds \n",
    "centroids = kmeans.cluster_centers_\n",
    "worst_experience_cluster = np.argmax(np.sum(centroids, axis=1))\n",
    "\n",
    "#Calculate euclidean distance from each user to the worst experience cluster centroid \n",
    "worst_experience_centroid = centroids[worst_experience_cluster]\n",
    "df_experience['experience_score'] = np.linalg.norm(df_scaled - worst_experience_centroid, axis=1)\n",
    "\n",
    "print(df_experience[['MSISDN/Number', 'cluster', 'experience_score']])"
   ]
  },
  {
   "cell_type": "code",
   "execution_count": 39,
   "id": "f218ce9c-7692-4db0-bba8-90ed3dd975dc",
   "metadata": {},
   "outputs": [],
   "source": [
    "# Merge the dataframes on MSISDN/Number \n",
    "df_merged = pd.merge(df_engagement[['MSISDN/Number', 'engagement_score']], df_experience[['MSISDN/Number', 'experience_score']], on='MSISDN/Number')"
   ]
  },
  {
   "cell_type": "code",
   "execution_count": 40,
   "id": "6341f242-24b6-489d-933b-20f34103466e",
   "metadata": {},
   "outputs": [],
   "source": [
    "# Calculte the Satisfaction Score \n",
    "df_merged['satisfaction_score'] = (df_merged['engagement_score'] + df_merged['experience_score'])/2 "
   ]
  },
  {
   "cell_type": "code",
   "execution_count": 41,
   "id": "7ba5a325-02fd-473f-b722-08e568f39cb3",
   "metadata": {},
   "outputs": [],
   "source": [
    "#Use the features from both engagement and experience datasets to predict the satisfaction score \n",
    "df_new_features = pd.merge(df_engagement.drop(columns=['MSISDN/Number', 'cluster', 'engagement_score']), \n",
    "                       df_experience.drop(columns=['MSISDN/Number', 'Handset Manufacturer', 'Handset Type', 'cluster', 'experience_score']), \n",
    "                       left_index=True, right_index=True)"
   ]
  },
  {
   "cell_type": "code",
   "execution_count": 42,
   "id": "7d6826d7-f436-4caf-b633-c36b1140193e",
   "metadata": {},
   "outputs": [],
   "source": [
    "#Import some more important libraries \n",
    "from sklearn.decomposition import PCA\n",
    "from sklearn.model_selection import train_test_split\n",
    "from sklearn.linear_model import LinearRegression\n",
    "from sklearn.metrics import mean_squared_error,r2_score"
   ]
  },
  {
   "cell_type": "code",
   "execution_count": 43,
   "id": "f616dbbc-d634-496e-9fc9-05b36131f193",
   "metadata": {},
   "outputs": [],
   "source": [
    "#Perform PCA \n",
    "pca = PCA(n_components=2)\n",
    "principal_data = pca.fit(df_new_features)"
   ]
  },
  {
   "cell_type": "code",
   "execution_count": 44,
   "id": "df8736b9-720a-4867-b61d-c5dff84e7be0",
   "metadata": {},
   "outputs": [],
   "source": [
    "# Split the data into training and testing sets \n",
    "x = df_new_features\n",
    "y = df_merged['satisfaction_score']\n",
    "x_train, x_test, y_train, y_test = train_test_split(x, y, test_size=0.2, random_state=42)"
   ]
  },
  {
   "cell_type": "code",
   "execution_count": 45,
   "id": "ce820167-3a72-440e-a700-05d42fe96f6e",
   "metadata": {},
   "outputs": [],
   "source": [
    "# Train a LinerRegration model\n",
    "regressor = LinearRegression()\n",
    "model_regressor =  regressor.fit(x_train, y_train)\n",
    "\n",
    "#predict on the test sets \n",
    "y_pred = regressor.predict(x_test)"
   ]
  },
  {
   "cell_type": "code",
   "execution_count": 46,
   "id": "2fa3fb30-6c9c-46b0-abd6-8a1eb38e7ae4",
   "metadata": {},
   "outputs": [
    {
     "name": "stdout",
     "output_type": "stream",
     "text": [
      "Mean squared Error:0.4507727201173588\n",
      "R2 score:0.5828576098306918\n"
     ]
    }
   ],
   "source": [
    "# Evaluate the model \n",
    "mse = mean_squared_error(y_test,y_pred)\n",
    "r2 = r2_score(y_test, y_pred)\n",
    "\n",
    "print(f\"Mean squared Error:{mse}\")\n",
    "print(f\"R2 score:{r2}\")"
   ]
  },
  {
   "cell_type": "code",
   "execution_count": 47,
   "id": "9017221c-cc74-4c35-a68b-218d76e0d462",
   "metadata": {},
   "outputs": [
    {
     "name": "stdout",
     "output_type": "stream",
     "text": [
      "                              Coefficient\n",
      "Number_of_xDR_Sessions      -4.221040e-21\n",
      "Session_Duration             1.156400e-06\n",
      "Social_Media_Total           3.890991e-08\n",
      "Google_Total                 8.662677e-09\n",
      "Email_Total                  4.001614e-08\n",
      "Youtube_Total               -1.387061e-09\n",
      "Netflix_Total               -1.771486e-09\n",
      "Gaming_Total                -7.454197e-09\n",
      "Other_Total                  2.020304e-10\n",
      "total_traffic                7.733704e-09\n",
      "Avg RTT DL (ms)              1.657518e-09\n",
      "Avg RTT UL (ms)             -2.207566e-09\n",
      "Avg Bearer TP DL (kbps)     -1.068248e-05\n",
      "Avg Bearer TP UL (kbps)     -6.816850e-07\n",
      "TCP DL Retrans. Vol (Bytes)  4.964973e-08\n",
      "TCP UL Retrans. Vol (Bytes)  1.012316e-06\n",
      "Activity Duration UL (ms)    3.777019e-08\n",
      "Activity Duration DL (ms)    5.792618e-08\n",
      "Avg RTT DL                  -5.500481e-10\n",
      "Avg Bearer TP               -1.136416e-05\n",
      "Avg TCP Retrans              5.262064e-08\n",
      "Avg Activity Duration       -2.531423e-08\n",
      "Avg RTT                     -5.500481e-10\n"
     ]
    }
   ],
   "source": [
    "# Display the coefficients\n",
    "coefficients = pd.DataFrame(regressor.coef_, x.columns, columns=['Coefficient'])\n",
    "print(coefficients)"
   ]
  },
  {
   "cell_type": "code",
   "execution_count": 48,
   "id": "3a0f83ad-e751-46b7-86e8-d79f4ed8b5e8",
   "metadata": {},
   "outputs": [
    {
     "name": "stdout",
     "output_type": "stream",
     "text": [
      "       MSISDN/Number  engagement_score  experience_score  satisfaction_score  \\\n",
      "0       0.000000e+00        791.019742          3.737168          397.378455   \n",
      "1       3.360100e+10          0.879020          5.703688            3.291354   \n",
      "2       3.360100e+10          1.099152          5.725966            3.412559   \n",
      "3       3.360100e+10          0.744604          5.943282            3.343943   \n",
      "4       3.360101e+10          1.205819          5.257259            3.231539   \n",
      "...              ...               ...               ...                 ...   \n",
      "95250   3.378996e+10          0.903529          5.929549            3.416539   \n",
      "95251   3.378997e+10          0.861366          5.599080            3.230223   \n",
      "95252   3.378998e+10          0.811474          5.926338            3.368906   \n",
      "95253   3.379000e+10          1.099789          4.826170            2.962979   \n",
      "95254   3.379000e+10          0.832592          5.649338            3.240965   \n",
      "\n",
      "       score_cluster  \n",
      "0                  0  \n",
      "1                  1  \n",
      "2                  1  \n",
      "3                  1  \n",
      "4                  1  \n",
      "...              ...  \n",
      "95250              1  \n",
      "95251              1  \n",
      "95252              1  \n",
      "95253              1  \n",
      "95254              1  \n",
      "\n",
      "[95255 rows x 5 columns]\n"
     ]
    }
   ],
   "source": [
    "#Combine engagement and experience scores \n",
    "df_scores = df_merged[['engagement_score', 'experience_score']]\n",
    "\n",
    "#perform K_means clustring \n",
    "kmeans_score = KMeans(n_clusters=2, random_state=42)\n",
    "df_merged['score_cluster'] = kmeans_score.fit_predict(df_scores)\n",
    "\n",
    "print(df_merged)"
   ]
  },
  {
   "cell_type": "code",
   "execution_count": 49,
   "id": "b84536f9-6ca2-4a48-bc14-0ed9bd5d7d1f",
   "metadata": {},
   "outputs": [
    {
     "name": "stdout",
     "output_type": "stream",
     "text": [
      "   score_cluster  satisfaction_score  experience_score\n",
      "0              0            4.370431          4.771973\n",
      "1              1            3.368777          5.612087\n"
     ]
    }
   ],
   "source": [
    "# Aggregate average satisfaction and experience score per cluster\n",
    "cluster_aggregation = df_merged.groupby('score_cluster')[['satisfaction_score', 'experience_score']].mean().reset_index()\n",
    "print(cluster_aggregation)"
   ]
  },
  {
   "cell_type": "code",
   "execution_count": 50,
   "id": "f7a8585a-4b86-47f7-81d3-5df73a51300e",
   "metadata": {},
   "outputs": [],
   "source": [
    "x['satisfaction_score'] = y"
   ]
  },
  {
   "cell_type": "code",
   "execution_count": 53,
   "id": "1b4c162a-99e9-44e2-96b3-5ffcb14d448d",
   "metadata": {},
   "outputs": [],
   "source": [
    "x.to_csv('make_regressor.csv',index=False)"
   ]
  },
  {
   "cell_type": "code",
   "execution_count": null,
   "id": "e0f3d64a-ee04-4e61-8a46-f75ce327478e",
   "metadata": {},
   "outputs": [],
   "source": []
  }
 ],
 "metadata": {
  "kernelspec": {
   "display_name": "Python 3 (ipykernel)",
   "language": "python",
   "name": "python3"
  },
  "language_info": {
   "codemirror_mode": {
    "name": "ipython",
    "version": 3
   },
   "file_extension": ".py",
   "mimetype": "text/x-python",
   "name": "python",
   "nbconvert_exporter": "python",
   "pygments_lexer": "ipython3",
   "version": "3.11.7"
  }
 },
 "nbformat": 4,
 "nbformat_minor": 5
}
